{
 "cells": [
  {
   "cell_type": "markdown",
   "metadata": {},
   "source": [
    "# Find example\n",
    "This script is used to find a specific pattern in the output of the SAT solver. If this pattern is found, then the script will print the corresponding example file."
   ]
  },
  {
   "cell_type": "code",
   "execution_count": 85,
   "metadata": {},
   "outputs": [],
   "source": [
    "import os\n",
    "from subprocess import PIPE, Popen\n",
    "import threading\n",
    "\n",
    "# Path to the directory containing the sat instances\n",
    "directorySat = \"/mnt/c/Users/robin/OneDrive/University/Library/SAT.CNF/sat/\"\n",
    "\n",
    "# Path to the directory containing the unsat instances\n",
    "directoryUnSat = \"/mnt/c/Users/robin/OneDrive/University/Library/SAT.CNF/unsat/\"\n",
    "\n",
    "# Path to the executable\n",
    "SAT_exec = \"/home/robin/Programs/NapSAT/build/NapSAT\"\n",
    "# SAT_options = [\"\"]\n",
    "SAT_options = [\"\", \"-wcb\", \"-lscb\", \"-rscb\"]\n",
    "additional_options = \"-c -sw -cp\"\n",
    "\n",
    "N_THREADS = 12\n"
   ]
  },
  {
   "cell_type": "code",
   "execution_count": 86,
   "metadata": {},
   "outputs": [],
   "source": [
    "def search_pattern(filename : str, pattern : str):\n",
    "    '''\n",
    "    Runs the SAT solver on the given file and searches for the given pattern in the output.\n",
    "    If the pattern is found, the filename is printed.\n",
    "    If some text is printed on stderr, the filename is printed.\n",
    "\n",
    "    Parameters:\n",
    "        filename (str): The name of the file to run the SAT solver on\n",
    "        pattern (str): The pattern to search for in the output\n",
    "\n",
    "    Returns:\n",
    "        None\n",
    "    '''\n",
    "    for option in SAT_options:\n",
    "        command = SAT_exec + \" \" + filename + \" \" + option + \" \" + additional_options\n",
    "        data = os.popen(command)\n",
    "        output = data.read()\n",
    "        err = data.close()\n",
    "        if output.find(pattern) != -1:\n",
    "            print(\"\\n\" + filename + \" : \" + option + \" : Pattern found: \" + pattern)\n",
    "        if err is not None:\n",
    "            # print the first 10 lines of the error message\n",
    "            print(\"\\n\" + filename + \" : \" + option + \" : \" + \"ERROR\")\n",
    "            # print(\"\\n\".join(output.split(\"\\n\")[:10]))\n",
    "\n",
    "def search_output(root_directory, pattern) :\n",
    "    \"\"\"\n",
    "    Searches for the given pattern in the output of the SAT solver for each file in the given directory.\n",
    "    If the pattern is found, the filename is printed.\n",
    "    If some text is printed on stderr, the filename is printed.\n",
    "\n",
    "    Parameters:\n",
    "        root_directory (str): The directory to search in\n",
    "        pattern (str): The pattern to search for in the output\n",
    "\n",
    "    Returns:\n",
    "        None\n",
    "    \"\"\"\n",
    "    bench_files = {}\n",
    "\n",
    "    for root, dirs, files in os.walk(root_directory):\n",
    "        for file in files:\n",
    "            if file.endswith(\".cnf\"):\n",
    "                if root in bench_files:\n",
    "                    bench_files[root].append(file)\n",
    "                else:\n",
    "                    bench_files[root] = [file]\n",
    "\n",
    "    dir = list(bench_files.keys())\n",
    "    dir.sort(key=lambda x: int(x.split(\"uf\")[1].split(\"-\")[0]))\n",
    "\n",
    "    for directory in dir:\n",
    "        threads = []\n",
    "        print (\"Directory: \" + directory)\n",
    "        print(\"Current progress: \" + str(0) + \"/\" + str(len(bench_files[directory])), end=\"\")\n",
    "        progress = 0\n",
    "        bench_files[directory].sort()\n",
    "\n",
    "        for filename in bench_files[directory]:\n",
    "            print(\"\\rCurrent progress: \" + str(progress) + \"/\" + str(len(bench_files[directory])), end=\"\")\n",
    "            first = True\n",
    "            while first or len(threads) == N_THREADS:\n",
    "                for thread in threads:\n",
    "                    if not thread.is_alive():\n",
    "                        threads.remove(thread)\n",
    "                        progress += 1\n",
    "                first = False\n",
    "            thread = threading.Thread(target=search_pattern, args=(directory + \"/\" + filename, pattern))\n",
    "            thread.start()\n",
    "            threads.append(thread)\n",
    "        for thread in threads:\n",
    "            thread.join()\n",
    "            progress += 1\n",
    "            print(\"\\rCurrent progress: \" + str(progress) + \"/\" + str(len(bench_files[directory])), end=\"\")\n",
    "        print()"
   ]
  },
  {
   "cell_type": "code",
   "execution_count": 87,
   "metadata": {},
   "outputs": [],
   "source": [
    "search_pattern(directorySat + \"uf20-91/uf20-0779.cnf\", \"Lazy\")"
   ]
  },
  {
   "cell_type": "code",
   "execution_count": 91,
   "metadata": {},
   "outputs": [
    {
     "name": "stdout",
     "output_type": "stream",
     "text": [
      "Directory: /mnt/c/Users/robin/OneDrive/University/Library/SAT.CNF/sat/uf20-91\n",
      "Current progress: 908/1000"
     ]
    },
    {
     "ename": "KeyboardInterrupt",
     "evalue": "",
     "output_type": "error",
     "traceback": [
      "\u001b[0;31m---------------------------------------------------------------------------\u001b[0m",
      "\u001b[0;31mKeyboardInterrupt\u001b[0m                         Traceback (most recent call last)",
      "Cell \u001b[0;32mIn[91], line 1\u001b[0m\n\u001b[0;32m----> 1\u001b[0m \u001b[43msearch_output\u001b[49m\u001b[43m(\u001b[49m\u001b[43mdirectorySat\u001b[49m\u001b[43m,\u001b[49m\u001b[43m \u001b[49m\u001b[38;5;124;43m\"\u001b[39;49m\u001b[38;5;124;43mFOUND\u001b[39;49m\u001b[38;5;124;43m\"\u001b[39;49m\u001b[43m)\u001b[49m\n\u001b[1;32m      2\u001b[0m search_output(directoryUnSat, \u001b[38;5;124m\"\u001b[39m\u001b[38;5;124mFOUND\u001b[39m\u001b[38;5;124m\"\u001b[39m)\n",
      "Cell \u001b[0;32mIn[86], line 64\u001b[0m, in \u001b[0;36msearch_output\u001b[0;34m(root_directory, pattern)\u001b[0m\n\u001b[1;32m     62\u001b[0m \u001b[38;5;28;01mwhile\u001b[39;00m first \u001b[38;5;129;01mor\u001b[39;00m \u001b[38;5;28mlen\u001b[39m(threads) \u001b[38;5;241m==\u001b[39m N_THREADS:\n\u001b[1;32m     63\u001b[0m     \u001b[38;5;28;01mfor\u001b[39;00m thread \u001b[38;5;129;01min\u001b[39;00m threads:\n\u001b[0;32m---> 64\u001b[0m         \u001b[38;5;28;01mif\u001b[39;00m \u001b[38;5;129;01mnot\u001b[39;00m \u001b[43mthread\u001b[49m\u001b[38;5;241;43m.\u001b[39;49m\u001b[43mis_alive\u001b[49m\u001b[43m(\u001b[49m\u001b[43m)\u001b[49m:\n\u001b[1;32m     65\u001b[0m             threads\u001b[38;5;241m.\u001b[39mremove(thread)\n\u001b[1;32m     66\u001b[0m             progress \u001b[38;5;241m+\u001b[39m\u001b[38;5;241m=\u001b[39m \u001b[38;5;241m1\u001b[39m\n",
      "File \u001b[0;32m/usr/lib/python3.10/threading.py:1180\u001b[0m, in \u001b[0;36mThread.is_alive\u001b[0;34m(self)\u001b[0m\n\u001b[1;32m   1178\u001b[0m \u001b[38;5;28;01mif\u001b[39;00m \u001b[38;5;28mself\u001b[39m\u001b[38;5;241m.\u001b[39m_is_stopped \u001b[38;5;129;01mor\u001b[39;00m \u001b[38;5;129;01mnot\u001b[39;00m \u001b[38;5;28mself\u001b[39m\u001b[38;5;241m.\u001b[39m_started\u001b[38;5;241m.\u001b[39mis_set():\n\u001b[1;32m   1179\u001b[0m     \u001b[38;5;28;01mreturn\u001b[39;00m \u001b[38;5;28;01mFalse\u001b[39;00m\n\u001b[0;32m-> 1180\u001b[0m \u001b[38;5;28;43mself\u001b[39;49m\u001b[38;5;241;43m.\u001b[39;49m\u001b[43m_wait_for_tstate_lock\u001b[49m\u001b[43m(\u001b[49m\u001b[38;5;28;43;01mFalse\u001b[39;49;00m\u001b[43m)\u001b[49m\n\u001b[1;32m   1181\u001b[0m \u001b[38;5;28;01mreturn\u001b[39;00m \u001b[38;5;129;01mnot\u001b[39;00m \u001b[38;5;28mself\u001b[39m\u001b[38;5;241m.\u001b[39m_is_stopped\n",
      "File \u001b[0;32m/usr/lib/python3.10/threading.py:1116\u001b[0m, in \u001b[0;36mThread._wait_for_tstate_lock\u001b[0;34m(self, block, timeout)\u001b[0m\n\u001b[1;32m   1113\u001b[0m     \u001b[38;5;28;01mreturn\u001b[39;00m\n\u001b[1;32m   1115\u001b[0m \u001b[38;5;28;01mtry\u001b[39;00m:\n\u001b[0;32m-> 1116\u001b[0m     \u001b[38;5;28;01mif\u001b[39;00m \u001b[43mlock\u001b[49m\u001b[38;5;241;43m.\u001b[39;49m\u001b[43macquire\u001b[49m\u001b[43m(\u001b[49m\u001b[43mblock\u001b[49m\u001b[43m,\u001b[49m\u001b[43m \u001b[49m\u001b[43mtimeout\u001b[49m\u001b[43m)\u001b[49m:\n\u001b[1;32m   1117\u001b[0m         lock\u001b[38;5;241m.\u001b[39mrelease()\n\u001b[1;32m   1118\u001b[0m         \u001b[38;5;28mself\u001b[39m\u001b[38;5;241m.\u001b[39m_stop()\n",
      "\u001b[0;31mKeyboardInterrupt\u001b[0m: "
     ]
    }
   ],
   "source": [
    "search_output(directorySat, \"FOUND\")\n",
    "search_output(directoryUnSat, \"FOUND\")"
   ]
  }
 ],
 "metadata": {
  "kernelspec": {
   "display_name": "Python 3",
   "language": "python",
   "name": "python3"
  },
  "language_info": {
   "codemirror_mode": {
    "name": "ipython",
    "version": 3
   },
   "file_extension": ".py",
   "mimetype": "text/x-python",
   "name": "python",
   "nbconvert_exporter": "python",
   "pygments_lexer": "ipython3",
   "version": "3.10.12"
  },
  "orig_nbformat": 4
 },
 "nbformat": 4,
 "nbformat_minor": 2
}
